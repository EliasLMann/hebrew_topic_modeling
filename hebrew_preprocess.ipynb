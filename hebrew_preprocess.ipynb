{
 "cells": [
  {
   "cell_type": "code",
   "execution_count": 59,
   "metadata": {},
   "outputs": [],
   "source": [
    "import numpy as np\n",
    "import pandas as pd\n",
    "import matplotlib.pyplot as plt"
   ]
  },
  {
   "cell_type": "markdown",
   "metadata": {},
   "source": [
    "https://works.bepress.com/klyoder/49/"
   ]
  },
  {
   "cell_type": "code",
   "execution_count": 60,
   "metadata": {},
   "outputs": [],
   "source": [
    "# Load the data\n",
    "heb_df = pd.read_excel('data/torah.xlsb')"
   ]
  },
  {
   "cell_type": "code",
   "execution_count": 61,
   "metadata": {},
   "outputs": [
    {
     "data": {
      "text/html": [
       "<div>\n",
       "<style scoped>\n",
       "    .dataframe tbody tr th:only-of-type {\n",
       "        vertical-align: middle;\n",
       "    }\n",
       "\n",
       "    .dataframe tbody tr th {\n",
       "        vertical-align: top;\n",
       "    }\n",
       "\n",
       "    .dataframe thead th {\n",
       "        text-align: right;\n",
       "    }\n",
       "</style>\n",
       "<table border=\"1\" class=\"dataframe\">\n",
       "  <thead>\n",
       "    <tr style=\"text-align: right;\">\n",
       "      <th></th>\n",
       "      <th>Ref</th>\n",
       "      <th>uLemma</th>\n",
       "    </tr>\n",
       "  </thead>\n",
       "  <tbody>\n",
       "    <tr>\n",
       "      <th>0</th>\n",
       "      <td>01_Gn 01:01.01.4</td>\n",
       "      <td>בּ</td>\n",
       "    </tr>\n",
       "    <tr>\n",
       "      <th>1</th>\n",
       "      <td>01_Gn 01:01.01.5</td>\n",
       "      <td>רֵאשִׁית</td>\n",
       "    </tr>\n",
       "    <tr>\n",
       "      <th>2</th>\n",
       "      <td>01_Gn 01:01.02.5</td>\n",
       "      <td>בּרא</td>\n",
       "    </tr>\n",
       "    <tr>\n",
       "      <th>3</th>\n",
       "      <td>01_Gn 01:01.03.5</td>\n",
       "      <td>אֱלֹהִים</td>\n",
       "    </tr>\n",
       "    <tr>\n",
       "      <th>4</th>\n",
       "      <td>01_Gn 01:01.04.5</td>\n",
       "      <td>אֵת</td>\n",
       "    </tr>\n",
       "    <tr>\n",
       "      <th>...</th>\n",
       "      <td>...</td>\n",
       "      <td>...</td>\n",
       "    </tr>\n",
       "    <tr>\n",
       "      <th>111966</th>\n",
       "      <td>05_Dt 34:12.10.4</td>\n",
       "      <td>ל</td>\n",
       "    </tr>\n",
       "    <tr>\n",
       "      <th>111967</th>\n",
       "      <td>05_Dt 34:12.10.5</td>\n",
       "      <td>עַיִן</td>\n",
       "    </tr>\n",
       "    <tr>\n",
       "      <th>111968</th>\n",
       "      <td>05_Dt 34:12.11.5</td>\n",
       "      <td>כֹּל</td>\n",
       "    </tr>\n",
       "    <tr>\n",
       "      <th>111969</th>\n",
       "      <td>05_Dt 34:12.12.5</td>\n",
       "      <td>יִשְׂרָאֵל</td>\n",
       "    </tr>\n",
       "    <tr>\n",
       "      <th>111970</th>\n",
       "      <td>111970</td>\n",
       "      <td>NaN</td>\n",
       "    </tr>\n",
       "  </tbody>\n",
       "</table>\n",
       "<p>111971 rows × 2 columns</p>\n",
       "</div>"
      ],
      "text/plain": [
       "                     Ref      uLemma\n",
       "0       01_Gn 01:01.01.4          בּ\n",
       "1       01_Gn 01:01.01.5    רֵאשִׁית\n",
       "2       01_Gn 01:01.02.5        בּרא\n",
       "3       01_Gn 01:01.03.5    אֱלֹהִים\n",
       "4       01_Gn 01:01.04.5         אֵת\n",
       "...                  ...         ...\n",
       "111966  05_Dt 34:12.10.4           ל\n",
       "111967  05_Dt 34:12.10.5       עַיִן\n",
       "111968  05_Dt 34:12.11.5        כֹּל\n",
       "111969  05_Dt 34:12.12.5  יִשְׂרָאֵל\n",
       "111970            111970         NaN\n",
       "\n",
       "[111971 rows x 2 columns]"
      ]
     },
     "execution_count": 61,
     "metadata": {},
     "output_type": "execute_result"
    }
   ],
   "source": [
    "heb_df = heb_df[['Ref', 'uLemma']]\n",
    "heb_df"
   ]
  },
  {
   "cell_type": "code",
   "execution_count": 62,
   "metadata": {},
   "outputs": [
    {
     "name": "stdout",
     "output_type": "stream",
     "text": [
      "(1744,)\n",
      "(11,)\n"
     ]
    }
   ],
   "source": [
    "#drop last row\n",
    "heb_df = heb_df.iloc[:-1]\n",
    "#remove all rows where ref doesn not start with 01\n",
    "heb_df = heb_df[heb_df['Ref'].str.startswith('01')]\n",
    "#create a stopword dataframe with all the rows with the last character of ref is >5\n",
    "stopwords = heb_df[heb_df['Ref'].str[-1] != '5']\n",
    "heb_words = heb_df[heb_df['Ref'].str[-1] == '5']\n",
    "#print the unigue values of uLemma in the stopwords dataframe\n",
    "print(heb_words['uLemma'].unique().shape)\n",
    "print(stopwords['uLemma'].unique().shape)"
   ]
  },
  {
   "cell_type": "code",
   "execution_count": 63,
   "metadata": {},
   "outputs": [
    {
     "name": "stdout",
     "output_type": "stream",
     "text": [
      "['בּ' 'ה' 'ו' 'ל/ה' 'מִן' 'ל' 'בּ/ה' 'ךּ' 'הֲ' 'שֶׁ' 'כּ/ה']\n",
      "אֵת         1147\n",
      "אמר          606\n",
      "אֶל          475\n",
      "ל            418\n",
      "אֲשֶׁר       411\n",
      "בֵּן         365\n",
      "כֹּל         342\n",
      "היה          316\n",
      "אֶרֶץ        311\n",
      "עַל          306\n",
      "כִּי         290\n",
      "אֱלֹהִים     219\n",
      "בּוא         217\n",
      "לֹא          212\n",
      "אָב          208\n",
      "יַעֲקֹב      180\n",
      "אָח          178\n",
      "ילד          170\n",
      "יהוה         165\n",
      "שָׁנָה       161\n",
      "Name: uLemma, dtype: int64\n"
     ]
    }
   ],
   "source": [
    "#a list of hebrew prepositions\n",
    "print(stopwords['uLemma'].unique())\n",
    "#print the top most frquent elements in ulemma from heb_words\n",
    "print(heb_words['uLemma'].value_counts().head(20))\n",
    "#remove , ל, אֵת, אֶל, עַל\n",
    "heb_words = heb_words[~heb_words['uLemma'].isin([',', 'ל', 'אֵת', 'אֶל', 'עַל'])]\n"
   ]
  },
  {
   "cell_type": "code",
   "execution_count": 64,
   "metadata": {},
   "outputs": [
    {
     "data": {
      "text/html": [
       "<div>\n",
       "<style scoped>\n",
       "    .dataframe tbody tr th:only-of-type {\n",
       "        vertical-align: middle;\n",
       "    }\n",
       "\n",
       "    .dataframe tbody tr th {\n",
       "        vertical-align: top;\n",
       "    }\n",
       "\n",
       "    .dataframe thead th {\n",
       "        text-align: right;\n",
       "    }\n",
       "</style>\n",
       "<table border=\"1\" class=\"dataframe\">\n",
       "  <thead>\n",
       "    <tr style=\"text-align: right;\">\n",
       "      <th></th>\n",
       "      <th>Ref</th>\n",
       "      <th>uLemma</th>\n",
       "    </tr>\n",
       "  </thead>\n",
       "  <tbody>\n",
       "    <tr>\n",
       "      <th>0</th>\n",
       "      <td>Genesis 01:01</td>\n",
       "      <td>רֵאשִׁית בּרא אֱלֹהִים שָׁמַיִם אֶרֶץ</td>\n",
       "    </tr>\n",
       "    <tr>\n",
       "      <th>1</th>\n",
       "      <td>Genesis 01:02</td>\n",
       "      <td>אֶרֶץ היה תֹּהוּ בֹּהוּ חֹשֶׁךְ פָּנֶה תְּהוֺם...</td>\n",
       "    </tr>\n",
       "    <tr>\n",
       "      <th>2</th>\n",
       "      <td>Genesis 01:03</td>\n",
       "      <td>אמר אֱלֹהִים היה אוֺר היה אוֺר</td>\n",
       "    </tr>\n",
       "    <tr>\n",
       "      <th>3</th>\n",
       "      <td>Genesis 01:04</td>\n",
       "      <td>ראה אֱלֹהִים אוֺר כִּי טוֺב בּדל אֱלֹהִים בַּי...</td>\n",
       "    </tr>\n",
       "    <tr>\n",
       "      <th>4</th>\n",
       "      <td>Genesis 01:05</td>\n",
       "      <td>קרא אֱלֹהִים אוֺר יוֺם חֹשֶׁךְ קרא לַיְלָה היה...</td>\n",
       "    </tr>\n",
       "    <tr>\n",
       "      <th>...</th>\n",
       "      <td>...</td>\n",
       "      <td>...</td>\n",
       "    </tr>\n",
       "    <tr>\n",
       "      <th>1528</th>\n",
       "      <td>Genesis 50:22</td>\n",
       "      <td>ישׁב יוֺסֵף מִצְרַיִם הוּא בַּיִת אָב חיה יוֺס...</td>\n",
       "    </tr>\n",
       "    <tr>\n",
       "      <th>1529</th>\n",
       "      <td>Genesis 50:23</td>\n",
       "      <td>ראה יוֺסֵף אֶפְרַיִם בֵּן שִׁלֵּשִׁים גַּם בֵּ...</td>\n",
       "    </tr>\n",
       "    <tr>\n",
       "      <th>1530</th>\n",
       "      <td>Genesis 50:24</td>\n",
       "      <td>אמר יוֺסֵף אָח אָנֹכִי מות אֱלֹהִים פּקד פּקד ...</td>\n",
       "    </tr>\n",
       "    <tr>\n",
       "      <th>1531</th>\n",
       "      <td>Genesis 50:25</td>\n",
       "      <td>שׁבע יוֺסֵף בֵּן יִשְׂרָאֵל אמר פּקד פּקד אֱלֹ...</td>\n",
       "    </tr>\n",
       "    <tr>\n",
       "      <th>1532</th>\n",
       "      <td>Genesis 50:26</td>\n",
       "      <td>מות יוֺסֵף בֵּן מֵאָה עֶשֶׂר שָׁנָה חנט שׂים א...</td>\n",
       "    </tr>\n",
       "  </tbody>\n",
       "</table>\n",
       "<p>1533 rows × 2 columns</p>\n",
       "</div>"
      ],
      "text/plain": [
       "                Ref                                             uLemma\n",
       "0     Genesis 01:01              רֵאשִׁית בּרא אֱלֹהִים שָׁמַיִם אֶרֶץ\n",
       "1     Genesis 01:02  אֶרֶץ היה תֹּהוּ בֹּהוּ חֹשֶׁךְ פָּנֶה תְּהוֺם...\n",
       "2     Genesis 01:03                     אמר אֱלֹהִים היה אוֺר היה אוֺר\n",
       "3     Genesis 01:04  ראה אֱלֹהִים אוֺר כִּי טוֺב בּדל אֱלֹהִים בַּי...\n",
       "4     Genesis 01:05  קרא אֱלֹהִים אוֺר יוֺם חֹשֶׁךְ קרא לַיְלָה היה...\n",
       "...             ...                                                ...\n",
       "1528  Genesis 50:22  ישׁב יוֺסֵף מִצְרַיִם הוּא בַּיִת אָב חיה יוֺס...\n",
       "1529  Genesis 50:23  ראה יוֺסֵף אֶפְרַיִם בֵּן שִׁלֵּשִׁים גַּם בֵּ...\n",
       "1530  Genesis 50:24  אמר יוֺסֵף אָח אָנֹכִי מות אֱלֹהִים פּקד פּקד ...\n",
       "1531  Genesis 50:25  שׁבע יוֺסֵף בֵּן יִשְׂרָאֵל אמר פּקד פּקד אֱלֹ...\n",
       "1532  Genesis 50:26  מות יוֺסֵף בֵּן מֵאָה עֶשֶׂר שָׁנָה חנט שׂים א...\n",
       "\n",
       "[1533 rows x 2 columns]"
      ]
     },
     "execution_count": 64,
     "metadata": {},
     "output_type": "execute_result"
    }
   ],
   "source": [
    "#remove last 5 characters from ref\n",
    "heb_words['Ref'] = heb_words['Ref'].str[:-5]\n",
    "#concatenate the uLemma values for each ref\n",
    "heb_lines = heb_words.groupby('Ref')['uLemma'].apply(' '.join).reset_index()\n",
    "#replace the first 5 characters of ref with 'Genesis'\n",
    "heb_lines['Ref'] = heb_lines['Ref'].str.replace('01_Gn', 'Genesis')\n",
    "heb_lines"
   ]
  },
  {
   "cell_type": "code",
   "execution_count": 66,
   "metadata": {},
   "outputs": [],
   "source": [
    "#remove inndex and save to txt file\n",
    "heb_lines.to_csv('data/genesis_hebrew.txt', sep='\\t', index=False, header=False)"
   ]
  },
  {
   "cell_type": "code",
   "execution_count": null,
   "metadata": {},
   "outputs": [],
   "source": []
  }
 ],
 "metadata": {
  "kernelspec": {
   "display_name": "newMlenv",
   "language": "python",
   "name": "python3"
  },
  "language_info": {
   "codemirror_mode": {
    "name": "ipython",
    "version": 3
   },
   "file_extension": ".py",
   "mimetype": "text/x-python",
   "name": "python",
   "nbconvert_exporter": "python",
   "pygments_lexer": "ipython3",
   "version": "3.10.8"
  }
 },
 "nbformat": 4,
 "nbformat_minor": 2
}
